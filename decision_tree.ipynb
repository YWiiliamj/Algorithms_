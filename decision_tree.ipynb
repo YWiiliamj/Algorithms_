{
 "cells": [
  {
   "cell_type": "code",
   "execution_count": 1,
   "id": "0bc767e2",
   "metadata": {},
   "outputs": [],
   "source": [
    "import numpy as np\n",
    "import pandas as pd"
   ]
  },
  {
   "cell_type": "code",
   "execution_count": 2,
   "id": "c84377ae",
   "metadata": {},
   "outputs": [
    {
     "data": {
      "text/html": [
       "<div>\n",
       "<style scoped>\n",
       "    .dataframe tbody tr th:only-of-type {\n",
       "        vertical-align: middle;\n",
       "    }\n",
       "\n",
       "    .dataframe tbody tr th {\n",
       "        vertical-align: top;\n",
       "    }\n",
       "\n",
       "    .dataframe thead th {\n",
       "        text-align: right;\n",
       "    }\n",
       "</style>\n",
       "<table border=\"1\" class=\"dataframe\">\n",
       "  <thead>\n",
       "    <tr style=\"text-align: right;\">\n",
       "      <th></th>\n",
       "      <th>outlook</th>\n",
       "      <th>temperature</th>\n",
       "      <th>humidity</th>\n",
       "      <th>windy</th>\n",
       "      <th>play</th>\n",
       "    </tr>\n",
       "  </thead>\n",
       "  <tbody>\n",
       "    <tr>\n",
       "      <th>0</th>\n",
       "      <td>sunny</td>\n",
       "      <td>hot</td>\n",
       "      <td>high</td>\n",
       "      <td>False</td>\n",
       "      <td>no</td>\n",
       "    </tr>\n",
       "    <tr>\n",
       "      <th>1</th>\n",
       "      <td>sunny</td>\n",
       "      <td>hot</td>\n",
       "      <td>high</td>\n",
       "      <td>True</td>\n",
       "      <td>no</td>\n",
       "    </tr>\n",
       "    <tr>\n",
       "      <th>2</th>\n",
       "      <td>overcast</td>\n",
       "      <td>hot</td>\n",
       "      <td>high</td>\n",
       "      <td>False</td>\n",
       "      <td>yes</td>\n",
       "    </tr>\n",
       "    <tr>\n",
       "      <th>3</th>\n",
       "      <td>rainy</td>\n",
       "      <td>mild</td>\n",
       "      <td>high</td>\n",
       "      <td>False</td>\n",
       "      <td>yes</td>\n",
       "    </tr>\n",
       "    <tr>\n",
       "      <th>4</th>\n",
       "      <td>rainy</td>\n",
       "      <td>cool</td>\n",
       "      <td>normal</td>\n",
       "      <td>False</td>\n",
       "      <td>yes</td>\n",
       "    </tr>\n",
       "    <tr>\n",
       "      <th>5</th>\n",
       "      <td>rainy</td>\n",
       "      <td>cool</td>\n",
       "      <td>normal</td>\n",
       "      <td>True</td>\n",
       "      <td>no</td>\n",
       "    </tr>\n",
       "    <tr>\n",
       "      <th>6</th>\n",
       "      <td>overcast</td>\n",
       "      <td>cool</td>\n",
       "      <td>normal</td>\n",
       "      <td>True</td>\n",
       "      <td>yes</td>\n",
       "    </tr>\n",
       "    <tr>\n",
       "      <th>7</th>\n",
       "      <td>rainy</td>\n",
       "      <td>mild</td>\n",
       "      <td>normal</td>\n",
       "      <td>False</td>\n",
       "      <td>yes</td>\n",
       "    </tr>\n",
       "    <tr>\n",
       "      <th>8</th>\n",
       "      <td>sunny</td>\n",
       "      <td>mild</td>\n",
       "      <td>normal</td>\n",
       "      <td>True</td>\n",
       "      <td>yes</td>\n",
       "    </tr>\n",
       "    <tr>\n",
       "      <th>9</th>\n",
       "      <td>overcast</td>\n",
       "      <td>mild</td>\n",
       "      <td>high</td>\n",
       "      <td>True</td>\n",
       "      <td>yes</td>\n",
       "    </tr>\n",
       "    <tr>\n",
       "      <th>10</th>\n",
       "      <td>overcast</td>\n",
       "      <td>hot</td>\n",
       "      <td>normal</td>\n",
       "      <td>False</td>\n",
       "      <td>yes</td>\n",
       "    </tr>\n",
       "    <tr>\n",
       "      <th>11</th>\n",
       "      <td>rainy</td>\n",
       "      <td>mild</td>\n",
       "      <td>high</td>\n",
       "      <td>True</td>\n",
       "      <td>no</td>\n",
       "    </tr>\n",
       "    <tr>\n",
       "      <th>12</th>\n",
       "      <td>sunny</td>\n",
       "      <td>mild</td>\n",
       "      <td>high</td>\n",
       "      <td>False</td>\n",
       "      <td>no</td>\n",
       "    </tr>\n",
       "    <tr>\n",
       "      <th>13</th>\n",
       "      <td>sunny</td>\n",
       "      <td>cool</td>\n",
       "      <td>normal</td>\n",
       "      <td>False</td>\n",
       "      <td>yes</td>\n",
       "    </tr>\n",
       "  </tbody>\n",
       "</table>\n",
       "</div>"
      ],
      "text/plain": [
       "     outlook temperature humidity  windy play\n",
       "0      sunny         hot     high  False   no\n",
       "1      sunny         hot     high   True   no\n",
       "2   overcast         hot     high  False  yes\n",
       "3      rainy        mild     high  False  yes\n",
       "4      rainy        cool   normal  False  yes\n",
       "5      rainy        cool   normal   True   no\n",
       "6   overcast        cool   normal   True  yes\n",
       "7      rainy        mild   normal  False  yes\n",
       "8      sunny        mild   normal   True  yes\n",
       "9   overcast        mild     high   True  yes\n",
       "10  overcast         hot   normal  False  yes\n",
       "11     rainy        mild     high   True   no\n",
       "12     sunny        mild     high  False   no\n",
       "13     sunny        cool   normal  False  yes"
      ]
     },
     "execution_count": 2,
     "metadata": {},
     "output_type": "execute_result"
    }
   ],
   "source": [
    "data = pd.read_table(\"./play.txt\", sep=\",\")\n",
    "# data['id'] = np.arange(1,15)\n",
    "data"
   ]
  },
  {
   "cell_type": "code",
   "execution_count": 26,
   "id": "6efaf618",
   "metadata": {},
   "outputs": [],
   "source": [
    "# #计算信息熵\n",
    "# def cal_information_entropy(data):\n",
    "#     data_label = data.iloc[:,-1]\n",
    "#     label_class =data_label.value_counts() #总共有多少类\n",
    "#     Ent = 0\n",
    "#     for k in label_class.keys():\n",
    "#         p_k = label_class[k]/len(data_label)\n",
    "#         Ent += -p_k*np.log2(p_k)\n",
    "#     return Ent\n",
    "\n",
    "# #计算给定数据属性a的信息增益\n",
    "# def cal_information_gain(data, a):\n",
    "#     Ent = cal_information_entropy(data)\n",
    "#     feature_class = data[a].value_counts() #特征有多少种可能\n",
    "#     gain = 0\n",
    "#     for v in feature_class.keys():\n",
    "#         weight = feature_class[v]/data.shape[0]\n",
    "#         Ent_v = cal_information_entropy(data.loc[data[a] == v])\n",
    "#         gain += weight*Ent_v\n",
    "#     return Ent - gain"
   ]
  },
  {
   "cell_type": "code",
   "execution_count": 102,
   "id": "0fe586cd",
   "metadata": {},
   "outputs": [],
   "source": [
    "# en = []\n",
    "# ratio = []\n",
    "# for _, groups in data.groupby(\"outlook\"):\n",
    "#     display(groups)\n",
    "#     ratio.append(len(groups) / len(data))\n",
    "#     values = groups['play'].value_counts(normalize=True).values\n",
    "#     log_values = np.log2(values)\n",
    "#     entropy = -1.0 * sum(values * log_values)\n",
    "#     en.append(entropy)"
   ]
  },
  {
   "cell_type": "code",
   "execution_count": 27,
   "id": "dd00555d",
   "metadata": {},
   "outputs": [],
   "source": [
    "## 计算给定属性的信息熵\n",
    "def cal_entropy(data, feature, label):\n",
    "    en = []\n",
    "    ratio = []\n",
    "    for _, groups in data.groupby(feature):\n",
    "        ratio.append(len(groups) / len(data))\n",
    "        values = groups[label].value_counts(normalize=True).values\n",
    "        log_values = np.log2(values)\n",
    "        entropy = -1.0 * sum(values * log_values)\n",
    "        en.append(entropy)\n",
    "    res = sum(np.array(en) * np.array(ratio))\n",
    "    return res\n",
    "\n",
    "## 计算标签的信息熵\n",
    "def cal_entropy_all(data, label):\n",
    "    values = data[label].value_counts(normalize=True).values\n",
    "    log_values = np.log2(values) \n",
    "    overall_entropy = -1.0 * sum(values * log_values)\n",
    "    return overall_entropy\n",
    "\n",
    "## 计算信息增益\n",
    "def cal_entropy_gain(overall_entropy, feature_entropy):\n",
    "    return overall_entropy - feature_entropy"
   ]
  },
  {
   "cell_type": "code",
   "execution_count": 28,
   "id": "cf0b5140",
   "metadata": {},
   "outputs": [
    {
     "data": {
      "text/plain": [
       "0.9402859586706311"
      ]
     },
     "execution_count": 28,
     "metadata": {},
     "output_type": "execute_result"
    }
   ],
   "source": [
    "overall_entropy = cal_entropy_all(data=data,  label='play')\n",
    "overall_entropy"
   ]
  },
  {
   "cell_type": "code",
   "execution_count": 29,
   "id": "211d412d",
   "metadata": {},
   "outputs": [
    {
     "data": {
      "text/plain": [
       "0.24674981977443933"
      ]
     },
     "execution_count": 29,
     "metadata": {},
     "output_type": "execute_result"
    }
   ],
   "source": [
    "outlook_entropy = cal_entropy(data=data, feature='outlook', label='play')\n",
    "outlook_gain = cal_entropy_gain(overall_entropy, outlook_entropy)\n",
    "outlook_gain"
   ]
  },
  {
   "cell_type": "code",
   "execution_count": 30,
   "id": "77937a06",
   "metadata": {},
   "outputs": [
    {
     "data": {
      "text/plain": [
       "0.02922256565895487"
      ]
     },
     "execution_count": 30,
     "metadata": {},
     "output_type": "execute_result"
    }
   ],
   "source": [
    "temperature_entropy = cal_entropy(data=data, feature='temperature', label='play')\n",
    "temperature_gain = cal_entropy_gain(overall_entropy, temperature_entropy)\n",
    "temperature_gain"
   ]
  },
  {
   "cell_type": "code",
   "execution_count": 31,
   "id": "14d49f87",
   "metadata": {},
   "outputs": [
    {
     "data": {
      "text/plain": [
       "0.15183550136234159"
      ]
     },
     "execution_count": 31,
     "metadata": {},
     "output_type": "execute_result"
    }
   ],
   "source": [
    "humidity_entropy = cal_entropy(data=data, feature='humidity', label='play')\n",
    "humidity_gain = cal_entropy_gain(overall_entropy, humidity_entropy)\n",
    "humidity_gain"
   ]
  },
  {
   "cell_type": "code",
   "execution_count": 32,
   "id": "891c20f0",
   "metadata": {},
   "outputs": [
    {
     "data": {
      "text/plain": [
       "0.04812703040826949"
      ]
     },
     "execution_count": 32,
     "metadata": {},
     "output_type": "execute_result"
    }
   ],
   "source": [
    "windy_entropy = cal_entropy(data=data, feature='windy', label='play')\n",
    "windy_gain = cal_entropy_gain(overall_entropy, windy_entropy)\n",
    "windy_gain"
   ]
  },
  {
   "cell_type": "code",
   "execution_count": 61,
   "id": "19216a08",
   "metadata": {},
   "outputs": [
    {
     "data": {
      "text/plain": [
       "'yes'"
      ]
     },
     "execution_count": 61,
     "metadata": {},
     "output_type": "execute_result"
    }
   ],
   "source": [
    "## 获取标签最多的那一类\n",
    "def get_most_label(data, label):\n",
    "    label_sort = data[label].value_counts(sort=True)\n",
    "    return label_sort.keys()[0]\n",
    "\n",
    "get_most_label(data, label = 'play')"
   ]
  },
  {
   "cell_type": "code",
   "execution_count": 100,
   "id": "941fee88",
   "metadata": {},
   "outputs": [],
   "source": [
    "## 挑选最优特征，即信息增益最大的特征\n",
    "def get_best_feature(data, label):\n",
    "    overall_entropy = cal_entropy_all(data=data, label=label)\n",
    "    features = data.drop(label, axis=1).columns\n",
    "    gain = {}\n",
    "    for f in features:\n",
    "        feature_entropy = cal_entropy(data, feature=f, label=label)\n",
    "        entropy_gain = cal_entropy_gain(overall_entropy, feature_entropy)\n",
    "        gain[f] = entropy_gain\n",
    "    gain_sorted_values = sorted(gain.items(), key=lambda x:x[1], reverse=True)\n",
    "    return gain_sorted_values[0][0]"
   ]
  },
  {
   "cell_type": "code",
   "execution_count": 101,
   "id": "ff1b02fa",
   "metadata": {},
   "outputs": [
    {
     "data": {
      "text/plain": [
       "'outlook'"
      ]
     },
     "execution_count": 101,
     "metadata": {},
     "output_type": "execute_result"
    }
   ],
   "source": [
    "get_best_feature(data = data, label = 'play')"
   ]
  },
  {
   "cell_type": "code",
   "execution_count": null,
   "id": "18548867",
   "metadata": {},
   "outputs": [],
   "source": []
  },
  {
   "cell_type": "code",
   "execution_count": null,
   "id": "3b049e9e",
   "metadata": {},
   "outputs": [],
   "source": []
  },
  {
   "cell_type": "code",
   "execution_count": null,
   "id": "c764ded4",
   "metadata": {},
   "outputs": [],
   "source": []
  },
  {
   "cell_type": "code",
   "execution_count": null,
   "id": "53e7c57d",
   "metadata": {},
   "outputs": [],
   "source": []
  },
  {
   "cell_type": "code",
   "execution_count": null,
   "id": "42697742",
   "metadata": {},
   "outputs": [],
   "source": []
  },
  {
   "cell_type": "code",
   "execution_count": null,
   "id": "09b1279f",
   "metadata": {},
   "outputs": [],
   "source": []
  },
  {
   "cell_type": "code",
   "execution_count": null,
   "id": "09f683f6",
   "metadata": {},
   "outputs": [],
   "source": []
  },
  {
   "cell_type": "code",
   "execution_count": null,
   "id": "126ce8c5",
   "metadata": {},
   "outputs": [],
   "source": []
  }
 ],
 "metadata": {
  "kernelspec": {
   "display_name": "Python 3",
   "language": "python",
   "name": "python3"
  },
  "language_info": {
   "codemirror_mode": {
    "name": "ipython",
    "version": 3
   },
   "file_extension": ".py",
   "mimetype": "text/x-python",
   "name": "python",
   "nbconvert_exporter": "python",
   "pygments_lexer": "ipython3",
   "version": "3.9.13"
  }
 },
 "nbformat": 4,
 "nbformat_minor": 5
}
