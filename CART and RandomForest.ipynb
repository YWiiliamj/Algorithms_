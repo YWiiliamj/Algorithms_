{
 "cells": [
  {
   "cell_type": "code",
   "execution_count": 1,
   "id": "017d0cae",
   "metadata": {},
   "outputs": [],
   "source": [
    "import random\n",
    "import warnings\n",
    "import numpy as np\n",
    "import pandas as pd\n",
    "\n",
    "from random import seed\n",
    "from random import randrange\n",
    "from plot_tree import *\n",
    "\n",
    "warnings.filterwarnings('ignore')"
   ]
  },
  {
   "cell_type": "markdown",
   "id": "ad5a27c5",
   "metadata": {},
   "source": [
    "### 一、CART决策树"
   ]
  },
  {
   "cell_type": "code",
   "execution_count": 2,
   "id": "9b81c2ee",
   "metadata": {},
   "outputs": [],
   "source": [
    "### 传入数据框，将数据框的每条数据转化为列表形式，方便后续操作\n",
    "def data_to_list(data):\n",
    "    data_list = []\n",
    "    for i in range(len(data)):\n",
    "        data_list.append(data.iloc[i].tolist())\n",
    "    return data_list\n",
    "\n",
    "\n",
    "### 传入数据列表、第i个feature_index和对应的value，切分成两份数据\n",
    "def split_dataset(dataset, feature_index, value):\n",
    "    left = []\n",
    "    right = []\n",
    "    for every_data in dataset: \n",
    "        if every_data[feature_index] == value:\n",
    "            left.append(every_data)\n",
    "        else:\n",
    "            right.append(every_data)\n",
    "    return left, right\n",
    "\n",
    "\n",
    "### 传入两个数据列表，计算基尼系数\n",
    "def cal_gini(left, right):\n",
    "    left_len = len(left)\n",
    "    right_len = len(right)\n",
    "    all_length = left_len + right_len\n",
    "\n",
    "    left_gini = 1 - sum((pd.Series([example[-1] for example in left]).value_counts(normalize=True).values)**2)\n",
    "    right_gini = 1- sum((pd.Series([example[-1] for example in right]).value_counts(normalize=True).values)**2)\n",
    "    \n",
    "    res = (left_len / all_length)*left_gini + (right_len / all_length)*right_gini\n",
    "    return res\n",
    "\n",
    "\n",
    "### 通过遍历传入的dataset中的特征将数据集切分成两份，计算GINI系数，选择出GINI系数最小的特征索引和对应的取值\n",
    "def get_best_feature(dataset):\n",
    "    numFeatures = len(dataset[0]) - 1 \n",
    "    best_feature_index = -1\n",
    "    best_Gini = 1\n",
    "    for i in range(numFeatures):\n",
    "        uniqueVals = set(example[i] for example in dataset)\n",
    "        Gini = {}\n",
    "        for value in uniqueVals:\n",
    "            left, right = split_dataset(dataset, i, value)\n",
    "            Gini[value] = cal_gini(left, right)\n",
    "            if Gini[value] < best_Gini:\n",
    "                best_Gini = Gini[value]\n",
    "                best_feature_index = i\n",
    "                best_split_point = value\n",
    "    return best_feature_index, best_split_point\n",
    "\n",
    "\n",
    "### 获取标签最多的那一类，用在停止分裂时选出一个类别进行返回\n",
    "def get_most_label(label_list):\n",
    "    label_sort = pd.Series(label_list).value_counts(sort=True)\n",
    "    return label_sort.keys()[0]\n",
    "\n",
    "\n",
    "### 找到最好的特征索引后，在原数据中删除这个特征\n",
    "def drop_exist_feature(dataset, best_feature_index):\n",
    "    len_dataset = len(dataset)\n",
    "    removed_elements = [dataset[i].pop(best_feature_index) for i in range(len_dataset)]\n",
    "    return dataset\n",
    "\n",
    "\n",
    "# ### 构造决策树\n",
    "# def create_tree(dataset, features):\n",
    "#     label_list = [example[-1] for example in dataset]\n",
    "    \n",
    "#     # 标签只有一类，停止分裂\n",
    "#     if label_list.count(label_list[0]) == len(label_list): \n",
    "#         return label_list[0]\n",
    "    \n",
    "#     # 每条数据只剩下一个特征，停止分裂\n",
    "#     if len(dataset[0]) == 1:     \n",
    "#         return get_most_label(label_list)\n",
    "    \n",
    "#     # 得到基尼系数最小的特征索引和对应的分裂点\n",
    "#     best_feature_index, best_split_point = get_best_feature(dataset)\n",
    "#     best_feature = features[best_feature_index]\n",
    "    \n",
    "#     # 初始化决策树\n",
    "#     Tree = {best_feature:{}}\n",
    "    \n",
    "#     # 在features中删掉最好的那个特征，并赋值为sub_labels用来下一次分裂\n",
    "#     del features[best_feature_index]\n",
    "#     sub_labels = features[:]\n",
    "    \n",
    "#     # 根据最好的特征和值，分割数据集\n",
    "#     sub_dataset1, sub_dataset2 = split_dataset(dataset, best_feature_index, best_split_point)  \n",
    "    \n",
    "#     # 在sub_dataset中也要删掉features[best_feature_index]\n",
    "#     sub_dataset1 = drop_exist_feature(sub_dataset1, best_feature_index)\n",
    "#     sub_dataset2 = drop_exist_feature(sub_dataset2, best_feature_index)\n",
    "    \n",
    "#     # 构造左子树\n",
    "#     Tree[best_feature][best_split_point] = create_tree(sub_dataset1, sub_labels) \n",
    "    \n",
    "#     # 构造右子树\n",
    "#     Tree[best_feature]['others'] = create_tree(sub_dataset2, sub_labels)\n",
    "#     return Tree\n",
    "\n",
    "\n",
    "### 构造决策树\n",
    "def create_tree(dataset, features):\n",
    "    \n",
    "    # 获取传进的dataset的标签\n",
    "    label_list = [example[-1] for example in dataset]\n",
    "    \n",
    "    # 如果标签的长度为0，也就是传进的dataset是空列表，结束程序\n",
    "    if len(label_list) == 0:\n",
    "        return\n",
    "    \n",
    "    # 标签只有一类，停止分裂\n",
    "    if label_list.count(label_list[0]) == len(label_list): \n",
    "        return label_list[0]\n",
    "    \n",
    "    # 每条数据只剩下一个特征（数据中最后一个是标签，所以是2），停止分裂; 也可为1，把所有特征都用完，会分得更细\n",
    "    if len(dataset[0]) == 2:     \n",
    "        return get_most_label(label_list)\n",
    "    \n",
    "    # 得到基尼系数最小的特征索引和对应的分裂点\n",
    "    best_feature_index, best_split_point = get_best_feature(dataset)\n",
    "    best_feature = features[best_feature_index]\n",
    "    \n",
    "    # 初始化决策树\n",
    "    Tree = {best_feature:{}}\n",
    "    \n",
    "    # 根据最好的特征和值，分割数据集\n",
    "    sub_dataset1, sub_dataset2 = split_dataset(dataset, best_feature_index, best_split_point)  \n",
    "    \n",
    "    # 在sub_dataset中删掉features[best_feature_index]\n",
    "    sub_dataset1 = drop_exist_feature(sub_dataset1, best_feature_index)\n",
    "    sub_dataset2 = drop_exist_feature(sub_dataset2, best_feature_index)\n",
    "    \n",
    "    # 在features中删掉最好的那个特征，并赋值为sub_labels用来下一次分裂\n",
    "    features.remove(best_feature)\n",
    "    sub_labels1 = features[:]\n",
    "    sub_labels2 = features[:]\n",
    "\n",
    "    # 递归地调用create_tree函数\n",
    "    Tree[best_feature][best_split_point] = create_tree(sub_dataset1, sub_labels1) # 构造左子树\n",
    "    Tree[best_feature]['others'] = create_tree(sub_dataset2, sub_labels2) # 构造右子树\n",
    "    return Tree"
   ]
  },
  {
   "cell_type": "markdown",
   "id": "8dee7964",
   "metadata": {},
   "source": [
    "##### 1.测试数据1"
   ]
  },
  {
   "cell_type": "code",
   "execution_count": 5,
   "id": "71584933",
   "metadata": {},
   "outputs": [],
   "source": [
    "def create_dataset():\n",
    "    dataset = [['youth', 'no', 'no', 'just so-so', 'no'],\n",
    "               ['youth', 'no', 'no', 'good', 'no'],\n",
    "               ['youth', 'yes', 'no', 'good', 'yes'],\n",
    "               ['youth', 'yes', 'yes', 'just so-so', 'yes'],\n",
    "               ['youth', 'no', 'no', 'just so-so', 'no'],\n",
    "               ['midlife', 'no', 'no', 'just so-so', 'no'],\n",
    "               ['midlife', 'no', 'no', 'wonderful', 'no'],\n",
    "               ['midlife', 'yes', 'yes', 'good', 'yes'],\n",
    "               ['midlife', 'no', 'yes', 'great', 'yes'],\n",
    "               ['midlife', 'no', 'yes', 'great', 'yes'],\n",
    "               ['geriatric', 'no', 'yes', 'great', 'yes'],\n",
    "               ['geriatric', 'no', 'yes', 'good', 'yes'],\n",
    "               ['geriatric', 'yes', 'no', 'good', 'yes'],\n",
    "               ['geriatric', 'yes', 'no', 'wonderful', 'yes'],\n",
    "               ['geriatric', 'no', 'no', 'just so-so', 'no']]\n",
    "    features = ['age', 'work', 'house', 'credit']\n",
    "    return dataset, features\n",
    "\n",
    "dataset, features = create_dataset()\n",
    "# data = pd.DataFrame(dataset, columns=['age', 'work', 'house', 'credit', 'label'])"
   ]
  },
  {
   "cell_type": "code",
   "execution_count": 6,
   "id": "625d0ad2",
   "metadata": {},
   "outputs": [
    {
     "data": {
      "text/plain": [
       "{'house': {'no': {'work': {'no': 'no', 'others': 'yes'}}, 'others': 'yes'}}"
      ]
     },
     "execution_count": 6,
     "metadata": {},
     "output_type": "execute_result"
    }
   ],
   "source": [
    "cart_tree = create_tree(dataset, features)\n",
    "cart_tree"
   ]
  },
  {
   "cell_type": "code",
   "execution_count": 7,
   "id": "ee6e22c1",
   "metadata": {},
   "outputs": [
    {
     "data": {
      "image/png": "[encoded data removed]",
      "text/plain": [
       "<Figure size 640x480 with 1 Axes>"
      ]
     },
     "metadata": {},
     "output_type": "display_data"
    }
   ],
   "source": [
    "createPlot(cart_tree)"
   ]
  },
  {
   "cell_type": "markdown",
   "id": "02cad318",
   "metadata": {},
   "source": [
    "##### 2.测试数据2"
   ]
  },
  {
   "cell_type": "code",
   "execution_count": 8,
   "id": "94327850",
   "metadata": {
    "scrolled": true
   },
   "outputs": [
    {
     "data": {
      "text/html": [
       "<div>\n",
       "<style scoped>\n",
       "    .dataframe tbody tr th:only-of-type {\n",
       "        vertical-align: middle;\n",
       "    }\n",
       "\n",
       "    .dataframe tbody tr th {\n",
       "        vertical-align: top;\n",
       "    }\n",
       "\n",
       "    .dataframe thead th {\n",
       "        text-align: right;\n",
       "    }\n",
       "</style>\n",
       "<table border=\"1\" class=\"dataframe\">\n",
       "  <thead>\n",
       "    <tr style=\"text-align: right;\">\n",
       "      <th></th>\n",
       "      <th>色泽</th>\n",
       "      <th>根蒂</th>\n",
       "      <th>敲声</th>\n",
       "      <th>纹理</th>\n",
       "      <th>脐部</th>\n",
       "      <th>触感</th>\n",
       "      <th>好瓜</th>\n",
       "    </tr>\n",
       "  </thead>\n",
       "  <tbody>\n",
       "    <tr>\n",
       "      <th>0</th>\n",
       "      <td>青绿</td>\n",
       "      <td>蜷缩</td>\n",
       "      <td>浊响</td>\n",
       "      <td>清晰</td>\n",
       "      <td>凹陷</td>\n",
       "      <td>硬滑</td>\n",
       "      <td>好瓜</td>\n",
       "    </tr>\n",
       "    <tr>\n",
       "      <th>1</th>\n",
       "      <td>乌黑</td>\n",
       "      <td>蜷缩</td>\n",
       "      <td>沉闷</td>\n",
       "      <td>清晰</td>\n",
       "      <td>凹陷</td>\n",
       "      <td>硬滑</td>\n",
       "      <td>好瓜</td>\n",
       "    </tr>\n",
       "    <tr>\n",
       "      <th>2</th>\n",
       "      <td>乌黑</td>\n",
       "      <td>蜷缩</td>\n",
       "      <td>浊响</td>\n",
       "      <td>清晰</td>\n",
       "      <td>凹陷</td>\n",
       "      <td>硬滑</td>\n",
       "      <td>好瓜</td>\n",
       "    </tr>\n",
       "    <tr>\n",
       "      <th>3</th>\n",
       "      <td>青绿</td>\n",
       "      <td>蜷缩</td>\n",
       "      <td>沉闷</td>\n",
       "      <td>清晰</td>\n",
       "      <td>凹陷</td>\n",
       "      <td>硬滑</td>\n",
       "      <td>好瓜</td>\n",
       "    </tr>\n",
       "    <tr>\n",
       "      <th>4</th>\n",
       "      <td>浅白</td>\n",
       "      <td>蜷缩</td>\n",
       "      <td>浊响</td>\n",
       "      <td>清晰</td>\n",
       "      <td>凹陷</td>\n",
       "      <td>硬滑</td>\n",
       "      <td>好瓜</td>\n",
       "    </tr>\n",
       "    <tr>\n",
       "      <th>5</th>\n",
       "      <td>青绿</td>\n",
       "      <td>稍蜷</td>\n",
       "      <td>浊响</td>\n",
       "      <td>清晰</td>\n",
       "      <td>稍凹</td>\n",
       "      <td>软粘</td>\n",
       "      <td>好瓜</td>\n",
       "    </tr>\n",
       "    <tr>\n",
       "      <th>6</th>\n",
       "      <td>乌黑</td>\n",
       "      <td>稍蜷</td>\n",
       "      <td>浊响</td>\n",
       "      <td>稍糊</td>\n",
       "      <td>稍凹</td>\n",
       "      <td>软粘</td>\n",
       "      <td>好瓜</td>\n",
       "    </tr>\n",
       "    <tr>\n",
       "      <th>7</th>\n",
       "      <td>乌黑</td>\n",
       "      <td>稍蜷</td>\n",
       "      <td>浊响</td>\n",
       "      <td>清晰</td>\n",
       "      <td>稍凹</td>\n",
       "      <td>硬滑</td>\n",
       "      <td>好瓜</td>\n",
       "    </tr>\n",
       "    <tr>\n",
       "      <th>8</th>\n",
       "      <td>乌黑</td>\n",
       "      <td>稍蜷</td>\n",
       "      <td>沉闷</td>\n",
       "      <td>稍糊</td>\n",
       "      <td>稍凹</td>\n",
       "      <td>硬滑</td>\n",
       "      <td>坏瓜</td>\n",
       "    </tr>\n",
       "    <tr>\n",
       "      <th>9</th>\n",
       "      <td>青绿</td>\n",
       "      <td>硬挺</td>\n",
       "      <td>清脆</td>\n",
       "      <td>清晰</td>\n",
       "      <td>平坦</td>\n",
       "      <td>软粘</td>\n",
       "      <td>坏瓜</td>\n",
       "    </tr>\n",
       "    <tr>\n",
       "      <th>10</th>\n",
       "      <td>浅白</td>\n",
       "      <td>硬挺</td>\n",
       "      <td>清脆</td>\n",
       "      <td>模糊</td>\n",
       "      <td>平坦</td>\n",
       "      <td>硬滑</td>\n",
       "      <td>坏瓜</td>\n",
       "    </tr>\n",
       "    <tr>\n",
       "      <th>11</th>\n",
       "      <td>浅白</td>\n",
       "      <td>蜷缩</td>\n",
       "      <td>浊响</td>\n",
       "      <td>模糊</td>\n",
       "      <td>平坦</td>\n",
       "      <td>软粘</td>\n",
       "      <td>坏瓜</td>\n",
       "    </tr>\n",
       "    <tr>\n",
       "      <th>12</th>\n",
       "      <td>青绿</td>\n",
       "      <td>稍蜷</td>\n",
       "      <td>浊响</td>\n",
       "      <td>稍糊</td>\n",
       "      <td>凹陷</td>\n",
       "      <td>硬滑</td>\n",
       "      <td>坏瓜</td>\n",
       "    </tr>\n",
       "    <tr>\n",
       "      <th>13</th>\n",
       "      <td>浅白</td>\n",
       "      <td>稍蜷</td>\n",
       "      <td>沉闷</td>\n",
       "      <td>稍糊</td>\n",
       "      <td>凹陷</td>\n",
       "      <td>硬滑</td>\n",
       "      <td>坏瓜</td>\n",
       "    </tr>\n",
       "    <tr>\n",
       "      <th>14</th>\n",
       "      <td>乌黑</td>\n",
       "      <td>稍蜷</td>\n",
       "      <td>浊响</td>\n",
       "      <td>清晰</td>\n",
       "      <td>稍凹</td>\n",
       "      <td>软粘</td>\n",
       "      <td>坏瓜</td>\n",
       "    </tr>\n",
       "    <tr>\n",
       "      <th>15</th>\n",
       "      <td>浅白</td>\n",
       "      <td>蜷缩</td>\n",
       "      <td>浊响</td>\n",
       "      <td>模糊</td>\n",
       "      <td>平坦</td>\n",
       "      <td>硬滑</td>\n",
       "      <td>坏瓜</td>\n",
       "    </tr>\n",
       "    <tr>\n",
       "      <th>16</th>\n",
       "      <td>青绿</td>\n",
       "      <td>蜷缩</td>\n",
       "      <td>沉闷</td>\n",
       "      <td>稍糊</td>\n",
       "      <td>稍凹</td>\n",
       "      <td>硬滑</td>\n",
       "      <td>坏瓜</td>\n",
       "    </tr>\n",
       "  </tbody>\n",
       "</table>\n",
       "</div>"
      ],
      "text/plain": [
       "    色泽  根蒂  敲声  纹理  脐部  触感  好瓜\n",
       "0   青绿  蜷缩  浊响  清晰  凹陷  硬滑  好瓜\n",
       "1   乌黑  蜷缩  沉闷  清晰  凹陷  硬滑  好瓜\n",
       "2   乌黑  蜷缩  浊响  清晰  凹陷  硬滑  好瓜\n",
       "3   青绿  蜷缩  沉闷  清晰  凹陷  硬滑  好瓜\n",
       "4   浅白  蜷缩  浊响  清晰  凹陷  硬滑  好瓜\n",
       "5   青绿  稍蜷  浊响  清晰  稍凹  软粘  好瓜\n",
       "6   乌黑  稍蜷  浊响  稍糊  稍凹  软粘  好瓜\n",
       "7   乌黑  稍蜷  浊响  清晰  稍凹  硬滑  好瓜\n",
       "8   乌黑  稍蜷  沉闷  稍糊  稍凹  硬滑  坏瓜\n",
       "9   青绿  硬挺  清脆  清晰  平坦  软粘  坏瓜\n",
       "10  浅白  硬挺  清脆  模糊  平坦  硬滑  坏瓜\n",
       "11  浅白  蜷缩  浊响  模糊  平坦  软粘  坏瓜\n",
       "12  青绿  稍蜷  浊响  稍糊  凹陷  硬滑  坏瓜\n",
       "13  浅白  稍蜷  沉闷  稍糊  凹陷  硬滑  坏瓜\n",
       "14  乌黑  稍蜷  浊响  清晰  稍凹  软粘  坏瓜\n",
       "15  浅白  蜷缩  浊响  模糊  平坦  硬滑  坏瓜\n",
       "16  青绿  蜷缩  沉闷  稍糊  稍凹  硬滑  坏瓜"
      ]
     },
     "execution_count": 8,
     "metadata": {},
     "output_type": "execute_result"
    }
   ],
   "source": [
    "data = pd.read_table(\"./watermelon.txt\", sep=\",\").drop(\"编号\",axis=1)\n",
    "data['好瓜'] = data['好瓜'].apply(lambda x:'好瓜' if x == \"是\" else \"坏瓜\")\n",
    "data"
   ]
  },
  {
   "cell_type": "code",
   "execution_count": 9,
   "id": "79264ea1",
   "metadata": {},
   "outputs": [],
   "source": [
    "dataset_gua = data_to_list(data)\n",
    "\n",
    "features_gua = list(data.columns[:-1])"
   ]
  },
  {
   "cell_type": "code",
   "execution_count": 10,
   "id": "6ae82162",
   "metadata": {},
   "outputs": [
    {
     "data": {
      "text/plain": [
       "{'纹理': {'清晰': {'触感': {'软粘': {'色泽': {'乌黑': '坏瓜',\n",
       "      'others': {'根蒂': {'稍蜷': '好瓜', 'others': '坏瓜'}}}},\n",
       "    'others': '好瓜'}},\n",
       "  'others': {'色泽': {'乌黑': {'敲声': {'沉闷': '坏瓜', 'others': '好瓜'}},\n",
       "    'others': '坏瓜'}}}}"
      ]
     },
     "execution_count": 10,
     "metadata": {},
     "output_type": "execute_result"
    }
   ],
   "source": [
    "cart_tree_gua = create_tree(dataset_gua, features_gua)\n",
    "cart_tree_gua"
   ]
  },
  {
   "cell_type": "code",
   "execution_count": 11,
   "id": "c811477d",
   "metadata": {},
   "outputs": [
    {
     "data": {
      "image/png": "[encoded data removed]",
      "text/plain": [
       "<Figure size 640x480 with 1 Axes>"
      ]
     },
     "metadata": {},
     "output_type": "display_data"
    }
   ],
   "source": [
    "createPlot(cart_tree_gua)"
   ]
  },
  {
   "cell_type": "code",
   "execution_count": null,
   "id": "c72b1677",
   "metadata": {},
   "outputs": [],
   "source": []
  },
  {
   "cell_type": "markdown",
   "id": "e10d219f",
   "metadata": {},
   "source": [
    "### 二、随机森林(基于CART决策树)"
   ]
  },
  {
   "cell_type": "code",
   "execution_count": 12,
   "id": "bb270098",
   "metadata": {},
   "outputs": [],
   "source": [
    "### 构造数据子集,传入数据框，返回列表形式的数据\n",
    "def get_subsample(data, label, sample_ratio, n_features):\n",
    "    \n",
    "    assert 0 <= sample_ratio <= 1, \"抽样概率应该在0—1之间\"\n",
    "    assert n_features <= data.shape[1] - 1, \"特征的最大数量不能超过{}个\".format(data.shape[1] - 1)\n",
    "    \n",
    "    # 按照指定的sample_ratio随机选取数据，不放回抽样\n",
    "    len_subdata = round(len(data) * sample_ratio)\n",
    "    sub_dataset = data.iloc[random.sample(range(len(data)), len_subdata)]\n",
    "    \n",
    "    # 按照指定的n_features随机选取样本特征，不放回抽样\n",
    "    drop_label_columns = data.drop(label, axis = 1).columns.to_list()\n",
    "    feature_selected = random.sample(drop_label_columns, n_features)\n",
    "    return feature_selected, data_to_list(sub_dataset[feature_selected + [label]])\n",
    "\n",
    "\n",
    "### 建立随机森林, 传入的是数据框\n",
    "def random_forest(data, label, sample_ratio, n_features, n_trees):\n",
    "    trees = []\n",
    "    for i in range(n_trees):\n",
    "        features, data_for_tree = get_subsample(data, label, sample_ratio, n_features)\n",
    "        single_tree = create_tree(data_for_tree, features)\n",
    "        trees.append(single_tree)\n",
    "    return trees"
   ]
  },
  {
   "cell_type": "markdown",
   "id": "4f4f436a",
   "metadata": {},
   "source": [
    "##### 1. 测试数据1"
   ]
  },
  {
   "cell_type": "code",
   "execution_count": 13,
   "id": "9e58fad5",
   "metadata": {
    "scrolled": true
   },
   "outputs": [
    {
     "data": {
      "text/html": [
       "<div>\n",
       "<style scoped>\n",
       "    .dataframe tbody tr th:only-of-type {\n",
       "        vertical-align: middle;\n",
       "    }\n",
       "\n",
       "    .dataframe tbody tr th {\n",
       "        vertical-align: top;\n",
       "    }\n",
       "\n",
       "    .dataframe thead th {\n",
       "        text-align: right;\n",
       "    }\n",
       "</style>\n",
       "<table border=\"1\" class=\"dataframe\">\n",
       "  <thead>\n",
       "    <tr style=\"text-align: right;\">\n",
       "      <th></th>\n",
       "      <th>色泽</th>\n",
       "      <th>根蒂</th>\n",
       "      <th>敲声</th>\n",
       "      <th>纹理</th>\n",
       "      <th>脐部</th>\n",
       "      <th>触感</th>\n",
       "      <th>好瓜</th>\n",
       "    </tr>\n",
       "  </thead>\n",
       "  <tbody>\n",
       "    <tr>\n",
       "      <th>0</th>\n",
       "      <td>青绿</td>\n",
       "      <td>蜷缩</td>\n",
       "      <td>浊响</td>\n",
       "      <td>清晰</td>\n",
       "      <td>凹陷</td>\n",
       "      <td>硬滑</td>\n",
       "      <td>好瓜</td>\n",
       "    </tr>\n",
       "    <tr>\n",
       "      <th>1</th>\n",
       "      <td>乌黑</td>\n",
       "      <td>蜷缩</td>\n",
       "      <td>沉闷</td>\n",
       "      <td>清晰</td>\n",
       "      <td>凹陷</td>\n",
       "      <td>硬滑</td>\n",
       "      <td>好瓜</td>\n",
       "    </tr>\n",
       "    <tr>\n",
       "      <th>2</th>\n",
       "      <td>乌黑</td>\n",
       "      <td>蜷缩</td>\n",
       "      <td>浊响</td>\n",
       "      <td>清晰</td>\n",
       "      <td>凹陷</td>\n",
       "      <td>硬滑</td>\n",
       "      <td>好瓜</td>\n",
       "    </tr>\n",
       "    <tr>\n",
       "      <th>3</th>\n",
       "      <td>青绿</td>\n",
       "      <td>蜷缩</td>\n",
       "      <td>沉闷</td>\n",
       "      <td>清晰</td>\n",
       "      <td>凹陷</td>\n",
       "      <td>硬滑</td>\n",
       "      <td>好瓜</td>\n",
       "    </tr>\n",
       "    <tr>\n",
       "      <th>4</th>\n",
       "      <td>浅白</td>\n",
       "      <td>蜷缩</td>\n",
       "      <td>浊响</td>\n",
       "      <td>清晰</td>\n",
       "      <td>凹陷</td>\n",
       "      <td>硬滑</td>\n",
       "      <td>好瓜</td>\n",
       "    </tr>\n",
       "    <tr>\n",
       "      <th>5</th>\n",
       "      <td>青绿</td>\n",
       "      <td>稍蜷</td>\n",
       "      <td>浊响</td>\n",
       "      <td>清晰</td>\n",
       "      <td>稍凹</td>\n",
       "      <td>软粘</td>\n",
       "      <td>好瓜</td>\n",
       "    </tr>\n",
       "    <tr>\n",
       "      <th>6</th>\n",
       "      <td>乌黑</td>\n",
       "      <td>稍蜷</td>\n",
       "      <td>浊响</td>\n",
       "      <td>稍糊</td>\n",
       "      <td>稍凹</td>\n",
       "      <td>软粘</td>\n",
       "      <td>好瓜</td>\n",
       "    </tr>\n",
       "    <tr>\n",
       "      <th>7</th>\n",
       "      <td>乌黑</td>\n",
       "      <td>稍蜷</td>\n",
       "      <td>浊响</td>\n",
       "      <td>清晰</td>\n",
       "      <td>稍凹</td>\n",
       "      <td>硬滑</td>\n",
       "      <td>好瓜</td>\n",
       "    </tr>\n",
       "    <tr>\n",
       "      <th>8</th>\n",
       "      <td>乌黑</td>\n",
       "      <td>稍蜷</td>\n",
       "      <td>沉闷</td>\n",
       "      <td>稍糊</td>\n",
       "      <td>稍凹</td>\n",
       "      <td>硬滑</td>\n",
       "      <td>坏瓜</td>\n",
       "    </tr>\n",
       "    <tr>\n",
       "      <th>9</th>\n",
       "      <td>青绿</td>\n",
       "      <td>硬挺</td>\n",
       "      <td>清脆</td>\n",
       "      <td>清晰</td>\n",
       "      <td>平坦</td>\n",
       "      <td>软粘</td>\n",
       "      <td>坏瓜</td>\n",
       "    </tr>\n",
       "    <tr>\n",
       "      <th>10</th>\n",
       "      <td>浅白</td>\n",
       "      <td>硬挺</td>\n",
       "      <td>清脆</td>\n",
       "      <td>模糊</td>\n",
       "      <td>平坦</td>\n",
       "      <td>硬滑</td>\n",
       "      <td>坏瓜</td>\n",
       "    </tr>\n",
       "    <tr>\n",
       "      <th>11</th>\n",
       "      <td>浅白</td>\n",
       "      <td>蜷缩</td>\n",
       "      <td>浊响</td>\n",
       "      <td>模糊</td>\n",
       "      <td>平坦</td>\n",
       "      <td>软粘</td>\n",
       "      <td>坏瓜</td>\n",
       "    </tr>\n",
       "    <tr>\n",
       "      <th>12</th>\n",
       "      <td>青绿</td>\n",
       "      <td>稍蜷</td>\n",
       "      <td>浊响</td>\n",
       "      <td>稍糊</td>\n",
       "      <td>凹陷</td>\n",
       "      <td>硬滑</td>\n",
       "      <td>坏瓜</td>\n",
       "    </tr>\n",
       "    <tr>\n",
       "      <th>13</th>\n",
       "      <td>浅白</td>\n",
       "      <td>稍蜷</td>\n",
       "      <td>沉闷</td>\n",
       "      <td>稍糊</td>\n",
       "      <td>凹陷</td>\n",
       "      <td>硬滑</td>\n",
       "      <td>坏瓜</td>\n",
       "    </tr>\n",
       "    <tr>\n",
       "      <th>14</th>\n",
       "      <td>乌黑</td>\n",
       "      <td>稍蜷</td>\n",
       "      <td>浊响</td>\n",
       "      <td>清晰</td>\n",
       "      <td>稍凹</td>\n",
       "      <td>软粘</td>\n",
       "      <td>坏瓜</td>\n",
       "    </tr>\n",
       "    <tr>\n",
       "      <th>15</th>\n",
       "      <td>浅白</td>\n",
       "      <td>蜷缩</td>\n",
       "      <td>浊响</td>\n",
       "      <td>模糊</td>\n",
       "      <td>平坦</td>\n",
       "      <td>硬滑</td>\n",
       "      <td>坏瓜</td>\n",
       "    </tr>\n",
       "    <tr>\n",
       "      <th>16</th>\n",
       "      <td>青绿</td>\n",
       "      <td>蜷缩</td>\n",
       "      <td>沉闷</td>\n",
       "      <td>稍糊</td>\n",
       "      <td>稍凹</td>\n",
       "      <td>硬滑</td>\n",
       "      <td>坏瓜</td>\n",
       "    </tr>\n",
       "  </tbody>\n",
       "</table>\n",
       "</div>"
      ],
      "text/plain": [
       "    色泽  根蒂  敲声  纹理  脐部  触感  好瓜\n",
       "0   青绿  蜷缩  浊响  清晰  凹陷  硬滑  好瓜\n",
       "1   乌黑  蜷缩  沉闷  清晰  凹陷  硬滑  好瓜\n",
       "2   乌黑  蜷缩  浊响  清晰  凹陷  硬滑  好瓜\n",
       "3   青绿  蜷缩  沉闷  清晰  凹陷  硬滑  好瓜\n",
       "4   浅白  蜷缩  浊响  清晰  凹陷  硬滑  好瓜\n",
       "5   青绿  稍蜷  浊响  清晰  稍凹  软粘  好瓜\n",
       "6   乌黑  稍蜷  浊响  稍糊  稍凹  软粘  好瓜\n",
       "7   乌黑  稍蜷  浊响  清晰  稍凹  硬滑  好瓜\n",
       "8   乌黑  稍蜷  沉闷  稍糊  稍凹  硬滑  坏瓜\n",
       "9   青绿  硬挺  清脆  清晰  平坦  软粘  坏瓜\n",
       "10  浅白  硬挺  清脆  模糊  平坦  硬滑  坏瓜\n",
       "11  浅白  蜷缩  浊响  模糊  平坦  软粘  坏瓜\n",
       "12  青绿  稍蜷  浊响  稍糊  凹陷  硬滑  坏瓜\n",
       "13  浅白  稍蜷  沉闷  稍糊  凹陷  硬滑  坏瓜\n",
       "14  乌黑  稍蜷  浊响  清晰  稍凹  软粘  坏瓜\n",
       "15  浅白  蜷缩  浊响  模糊  平坦  硬滑  坏瓜\n",
       "16  青绿  蜷缩  沉闷  稍糊  稍凹  硬滑  坏瓜"
      ]
     },
     "execution_count": 13,
     "metadata": {},
     "output_type": "execute_result"
    }
   ],
   "source": [
    "data = pd.read_table(\"./watermelon.txt\", sep=\",\").drop(\"编号\",axis=1)\n",
    "data['好瓜'] = data['好瓜'].apply(lambda x:'好瓜' if x == \"是\" else \"坏瓜\")\n",
    "data "
   ]
  },
  {
   "cell_type": "code",
   "execution_count": 14,
   "id": "9ed22973",
   "metadata": {
    "scrolled": true
   },
   "outputs": [
    {
     "data": {
      "text/plain": [
       "[{'纹理': {'清晰': {'触感': {'软粘': {'色泽': {'乌黑': '坏瓜', 'others': '好瓜'}},\n",
       "     'others': '好瓜'}},\n",
       "   'others': '坏瓜'}},\n",
       " {'脐部': {'凹陷': {'根蒂': {'蜷缩': '好瓜', 'others': '坏瓜'}},\n",
       "   'others': {'色泽': {'乌黑': {'触感': {'软粘': '坏瓜', 'others': '好瓜'}},\n",
       "     'others': '坏瓜'}}}},\n",
       " {'根蒂': {'蜷缩': {'脐部': {'凹陷': '好瓜', 'others': '坏瓜'}},\n",
       "   'others': {'色泽': {'乌黑': {'纹理': {'清晰': '好瓜', 'others': '好瓜'}},\n",
       "     'others': '坏瓜'}}}},\n",
       " {'脐部': {'平坦': '坏瓜',\n",
       "   'others': {'纹理': {'清晰': {'触感': {'硬滑': '好瓜', 'others': '坏瓜'}},\n",
       "     'others': {'色泽': {'乌黑': '好瓜', 'others': '坏瓜'}}}}}},\n",
       " {'脐部': {'平坦': '坏瓜',\n",
       "   'others': {'色泽': {'乌黑': {'触感': {'硬滑': '好瓜', 'others': '坏瓜'}},\n",
       "     'others': {'触感': {'硬滑': '坏瓜', 'others': '好瓜'}}}}}},\n",
       " {'敲声': {'浊响': {'根蒂': {'蜷缩': '好瓜',\n",
       "     'others': {'脐部': {'凹陷': '坏瓜', 'others': '好瓜'}}}},\n",
       "   'others': {'脐部': {'凹陷': {'色泽': {'浅白': '坏瓜', 'others': '好瓜'}},\n",
       "     'others': '坏瓜'}}}},\n",
       " {'色泽': {'浅白': '坏瓜',\n",
       "   'others': {'根蒂': {'硬挺': '坏瓜',\n",
       "     'others': {'纹理': {'清晰': '好瓜', 'others': '好瓜'}}}}}},\n",
       " {'纹理': {'清晰': {'根蒂': {'蜷缩': '好瓜',\n",
       "     'others': {'色泽': {'乌黑': '好瓜', 'others': None}}}},\n",
       "   'others': '坏瓜'}},\n",
       " {'脐部': {'平坦': '坏瓜',\n",
       "   'others': {'色泽': {'浅白': '坏瓜',\n",
       "     'others': {'触感': {'硬滑': '好瓜', 'others': '好瓜'}}}}}},\n",
       " {'脐部': {'平坦': '坏瓜',\n",
       "   'others': {'敲声': {'沉闷': {'根蒂': {'蜷缩': '好瓜', 'others': '坏瓜'}},\n",
       "     'others': {'根蒂': {'蜷缩': '好瓜', 'others': '好瓜'}}}}}}]"
      ]
     },
     "execution_count": 14,
     "metadata": {},
     "output_type": "execute_result"
    }
   ],
   "source": [
    "rf = random_forest(data, label=\"好瓜\", sample_ratio = 0.7, n_features = 4, n_trees = 10)\n",
    "rf"
   ]
  },
  {
   "cell_type": "code",
   "execution_count": null,
   "id": "450f7140",
   "metadata": {},
   "outputs": [],
   "source": []
  },
  {
   "cell_type": "code",
   "execution_count": null,
   "id": "d37e9975",
   "metadata": {},
   "outputs": [],
   "source": []
  },
  {
   "cell_type": "code",
   "execution_count": 34,
   "id": "b7784853",
   "metadata": {},
   "outputs": [],
   "source": [
    "def classify(decision_tree, features, test_example):\n",
    "\n",
    "    first_feature = list(decision_tree.keys())[0]\n",
    "    second_dict = decision_tree[first_feature]\n",
    "    index_of_first_feature = features.index(first_feature)\n",
    "    for key in second_dict.keys():\n",
    "        if key != 'others':\n",
    "            if test_example[index_of_first_feature] == key:\n",
    "\n",
    "                if type(second_dict[key]).__name__ == 'dict':\n",
    "                    classLabel = classify(second_dict[key], features, test_example)\n",
    "                else:\n",
    "                    classLabel = second_dict[key]\n",
    "\n",
    "            else:\n",
    "                if isinstance(second_dict['others'], str):\n",
    "                    classLabel = second_dict['others']\n",
    "                else:\n",
    "                    classLabel = classify(second_dict['others'], features, test_example)\n",
    "    return classLabel"
   ]
  },
  {
   "cell_type": "code",
   "execution_count": null,
   "id": "662cd362",
   "metadata": {},
   "outputs": [],
   "source": [
    "def predict(Tree, test_data):\n",
    "    first_feature = list(Tree.keys())[0]\n",
    "    second_dict = Tree[first_feature]\n",
    "    input_first = test_data.get(first_feature)\n",
    "    input_value = second_dict[input_first]\n",
    "    if isinstance(input_value , dict): \n",
    "        class_label = predict(input_value, test_data)\n",
    "    else:\n",
    "        class_label = input_value\n",
    "    return class_label\n",
    "\n",
    "\n",
    "## 随机森林预测\n",
    "def random_forest_predict(random_forest, test_data):\n",
    "    res = []\n",
    "    for tree in random_forest:\n",
    "        single_tree_predict = predict(tree, test_data)\n",
    "        res.append(single_tree_predict)\n",
    "    predictions = max(res, key=res.count)\n",
    "    return predictions  "
   ]
  },
  {
   "cell_type": "code",
   "execution_count": 15,
   "id": "f09f75e8",
   "metadata": {},
   "outputs": [],
   "source": [
    "### 构造决策树\n",
    "def create_tree(dataset, features):\n",
    "    \n",
    "    # 获取传进的dataset的标签\n",
    "    label_list = [example[-1] for example in dataset]\n",
    "    \n",
    "    # 如果标签的长度为0，也就是传进的dataset是空列表，结束程序\n",
    "    if len(label_list) == 0:\n",
    "        return\n",
    "    \n",
    "    # 标签只有一类，停止分裂\n",
    "    if label_list.count(label_list[0]) == len(label_list): \n",
    "        return label_list[0]\n",
    "    \n",
    "    # 每条数据只剩下一个特征（数据中最后一个是标签，所以是1），停止分裂\n",
    "    if len(dataset[0]) == 1:     \n",
    "        return get_most_label(label_list)\n",
    "    \n",
    "    # 得到基尼系数最小的特征索引和对应的分裂点\n",
    "    best_feature_index, best_split_point = get_best_feature(dataset)\n",
    "    best_feature = features[best_feature_index]\n",
    "    print(\"最好的特征是：\", best_feature)\n",
    "    \n",
    "    # 初始化决策树\n",
    "    Tree = {best_feature:{}}\n",
    "    \n",
    "    # 根据最好的特征和值，分割数据集\n",
    "    sub_dataset1, sub_dataset2 = split_dataset(dataset, best_feature_index, best_split_point)  \n",
    "    \n",
    "    # 在sub_dataset中删掉features[best_feature_index]\n",
    "    sub_dataset1 = drop_exist_feature(sub_dataset1, best_feature_index)\n",
    "    sub_dataset2 = drop_exist_feature(sub_dataset2, best_feature_index)\n",
    "    display(\"左数据集是：\",sub_dataset1)\n",
    "    display(\"右数据集是：\",sub_dataset2)\n",
    "    \n",
    "    # 在features中删掉最好的那个特征，并赋值为sub_labels用来下一次分裂\n",
    "    features.remove(best_feature)\n",
    "    sub_labels1 = features[:]\n",
    "    sub_labels2 = features[:]\n",
    "    print(\"删除最好的特征后 还有：\", sub_labels1, sub_labels2)\n",
    "    \n",
    "    print(\"*\"*50)\n",
    "    \n",
    "    Tree[best_feature][best_split_point] = create_tree(sub_dataset1, sub_labels1) # 构造左子树\n",
    "    print(\"%\"*50)\n",
    "    Tree[best_feature]['others'] = create_tree(sub_dataset2, sub_labels2) # 构造右子树\n",
    "    return Tree"
   ]
  },
  {
   "cell_type": "code",
   "execution_count": 16,
   "id": "cc492bc7",
   "metadata": {
    "scrolled": true
   },
   "outputs": [
    {
     "name": "stdout",
     "output_type": "stream",
     "text": [
      "最好的特征是： 纹理\n"
     ]
    },
    {
     "data": {
      "text/plain": [
       "'左数据集是：'"
      ]
     },
     "metadata": {},
     "output_type": "display_data"
    },
    {
     "data": {
      "text/plain": [
       "[['硬滑', '蜷缩', '沉闷', '好瓜'],\n",
       " ['软粘', '稍蜷', '浊响', '好瓜'],\n",
       " ['硬滑', '蜷缩', '浊响', '好瓜'],\n",
       " ['硬滑', '蜷缩', '浊响', '好瓜'],\n",
       " ['软粘', '稍蜷', '浊响', '坏瓜'],\n",
       " ['硬滑', '稍蜷', '浊响', '好瓜'],\n",
       " ['硬滑', '蜷缩', '浊响', '好瓜']]"
      ]
     },
     "metadata": {},
     "output_type": "display_data"
    },
    {
     "data": {
      "text/plain": [
       "'右数据集是：'"
      ]
     },
     "metadata": {},
     "output_type": "display_data"
    },
    {
     "data": {
      "text/plain": [
       "[['硬滑', '稍蜷', '浊响', '坏瓜'],\n",
       " ['硬滑', '稍蜷', '沉闷', '坏瓜'],\n",
       " ['硬滑', '蜷缩', '浊响', '坏瓜'],\n",
       " ['软粘', '蜷缩', '浊响', '坏瓜'],\n",
       " ['软粘', '稍蜷', '浊响', '好瓜']]"
      ]
     },
     "metadata": {},
     "output_type": "display_data"
    },
    {
     "name": "stdout",
     "output_type": "stream",
     "text": [
      "删除最好的特征后 还有： ['触感', '根蒂', '敲声'] ['触感', '根蒂', '敲声']\n",
      "**************************************************\n",
      "最好的特征是： 触感\n"
     ]
    },
    {
     "data": {
      "text/plain": [
       "'左数据集是：'"
      ]
     },
     "metadata": {},
     "output_type": "display_data"
    },
    {
     "data": {
      "text/plain": [
       "[['稍蜷', '浊响', '好瓜'], ['稍蜷', '浊响', '坏瓜']]"
      ]
     },
     "metadata": {},
     "output_type": "display_data"
    },
    {
     "data": {
      "text/plain": [
       "'右数据集是：'"
      ]
     },
     "metadata": {},
     "output_type": "display_data"
    },
    {
     "data": {
      "text/plain": [
       "[['蜷缩', '沉闷', '好瓜'],\n",
       " ['蜷缩', '浊响', '好瓜'],\n",
       " ['蜷缩', '浊响', '好瓜'],\n",
       " ['稍蜷', '浊响', '好瓜'],\n",
       " ['蜷缩', '浊响', '好瓜']]"
      ]
     },
     "metadata": {},
     "output_type": "display_data"
    },
    {
     "name": "stdout",
     "output_type": "stream",
     "text": [
      "删除最好的特征后 还有： ['根蒂', '敲声'] ['根蒂', '敲声']\n",
      "**************************************************\n",
      "最好的特征是： 根蒂\n"
     ]
    },
    {
     "data": {
      "text/plain": [
       "'左数据集是：'"
      ]
     },
     "metadata": {},
     "output_type": "display_data"
    },
    {
     "data": {
      "text/plain": [
       "[['浊响', '好瓜'], ['浊响', '坏瓜']]"
      ]
     },
     "metadata": {},
     "output_type": "display_data"
    },
    {
     "data": {
      "text/plain": [
       "'右数据集是：'"
      ]
     },
     "metadata": {},
     "output_type": "display_data"
    },
    {
     "data": {
      "text/plain": [
       "[]"
      ]
     },
     "metadata": {},
     "output_type": "display_data"
    },
    {
     "name": "stdout",
     "output_type": "stream",
     "text": [
      "删除最好的特征后 还有： ['敲声'] ['敲声']\n",
      "**************************************************\n",
      "最好的特征是： 敲声\n"
     ]
    },
    {
     "data": {
      "text/plain": [
       "'左数据集是：'"
      ]
     },
     "metadata": {},
     "output_type": "display_data"
    },
    {
     "data": {
      "text/plain": [
       "[['好瓜'], ['坏瓜']]"
      ]
     },
     "metadata": {},
     "output_type": "display_data"
    },
    {
     "data": {
      "text/plain": [
       "'右数据集是：'"
      ]
     },
     "metadata": {},
     "output_type": "display_data"
    },
    {
     "data": {
      "text/plain": [
       "[]"
      ]
     },
     "metadata": {},
     "output_type": "display_data"
    },
    {
     "name": "stdout",
     "output_type": "stream",
     "text": [
      "删除最好的特征后 还有： [] []\n",
      "**************************************************\n",
      "%%%%%%%%%%%%%%%%%%%%%%%%%%%%%%%%%%%%%%%%%%%%%%%%%%\n",
      "%%%%%%%%%%%%%%%%%%%%%%%%%%%%%%%%%%%%%%%%%%%%%%%%%%\n",
      "%%%%%%%%%%%%%%%%%%%%%%%%%%%%%%%%%%%%%%%%%%%%%%%%%%\n",
      "%%%%%%%%%%%%%%%%%%%%%%%%%%%%%%%%%%%%%%%%%%%%%%%%%%\n",
      "最好的特征是： 触感\n"
     ]
    },
    {
     "data": {
      "text/plain": [
       "'左数据集是：'"
      ]
     },
     "metadata": {},
     "output_type": "display_data"
    },
    {
     "data": {
      "text/plain": [
       "[['蜷缩', '浊响', '坏瓜'], ['稍蜷', '浊响', '好瓜']]"
      ]
     },
     "metadata": {},
     "output_type": "display_data"
    },
    {
     "data": {
      "text/plain": [
       "'右数据集是：'"
      ]
     },
     "metadata": {},
     "output_type": "display_data"
    },
    {
     "data": {
      "text/plain": [
       "[['稍蜷', '浊响', '坏瓜'], ['稍蜷', '沉闷', '坏瓜'], ['蜷缩', '浊响', '坏瓜']]"
      ]
     },
     "metadata": {},
     "output_type": "display_data"
    },
    {
     "name": "stdout",
     "output_type": "stream",
     "text": [
      "删除最好的特征后 还有： ['根蒂', '敲声'] ['根蒂', '敲声']\n",
      "**************************************************\n",
      "最好的特征是： 根蒂\n"
     ]
    },
    {
     "data": {
      "text/plain": [
       "'左数据集是：'"
      ]
     },
     "metadata": {},
     "output_type": "display_data"
    },
    {
     "data": {
      "text/plain": [
       "[['浊响', '坏瓜']]"
      ]
     },
     "metadata": {},
     "output_type": "display_data"
    },
    {
     "data": {
      "text/plain": [
       "'右数据集是：'"
      ]
     },
     "metadata": {},
     "output_type": "display_data"
    },
    {
     "data": {
      "text/plain": [
       "[['浊响', '好瓜']]"
      ]
     },
     "metadata": {},
     "output_type": "display_data"
    },
    {
     "name": "stdout",
     "output_type": "stream",
     "text": [
      "删除最好的特征后 还有： ['敲声'] ['敲声']\n",
      "**************************************************\n",
      "%%%%%%%%%%%%%%%%%%%%%%%%%%%%%%%%%%%%%%%%%%%%%%%%%%\n",
      "%%%%%%%%%%%%%%%%%%%%%%%%%%%%%%%%%%%%%%%%%%%%%%%%%%\n"
     ]
    },
    {
     "data": {
      "text/plain": [
       "{'纹理': {'清晰': {'触感': {'软粘': {'根蒂': {'稍蜷': {'敲声': {'浊响': '好瓜', 'others': None}},\n",
       "      'others': None}},\n",
       "    'others': '好瓜'}},\n",
       "  'others': {'触感': {'软粘': {'根蒂': {'蜷缩': '坏瓜', 'others': '好瓜'}},\n",
       "    'others': '坏瓜'}}}}"
      ]
     },
     "execution_count": 16,
     "metadata": {},
     "output_type": "execute_result"
    }
   ],
   "source": [
    "features = ['触感', '根蒂', '纹理', '敲声']\n",
    "dataset = [['硬滑', '稍蜷', '稍糊', '浊响', '坏瓜'],\n",
    " ['硬滑', '蜷缩', '清晰', '沉闷', '好瓜'],\n",
    " ['软粘', '稍蜷', '清晰', '浊响', '好瓜'],\n",
    " ['硬滑', '稍蜷', '稍糊', '沉闷', '坏瓜'],\n",
    " ['硬滑', '蜷缩', '清晰', '浊响', '好瓜'],\n",
    " ['硬滑', '蜷缩', '清晰', '浊响', '好瓜'],\n",
    " ['软粘', '稍蜷', '清晰', '浊响', '坏瓜'],\n",
    " ['硬滑', '稍蜷', '清晰', '浊响', '好瓜'],\n",
    " ['硬滑', '蜷缩', '模糊', '浊响', '坏瓜'],\n",
    " ['硬滑', '蜷缩', '清晰', '浊响', '好瓜'],\n",
    " ['软粘', '蜷缩', '模糊', '浊响', '坏瓜'],\n",
    " ['软粘', '稍蜷', '稍糊', '浊响', '好瓜']]\n",
    "create_tree(dataset, features)"
   ]
  },
  {
   "cell_type": "code",
   "execution_count": 17,
   "id": "1ed03fbc",
   "metadata": {
    "scrolled": true
   },
   "outputs": [
    {
     "name": "stdout",
     "output_type": "stream",
     "text": [
      "最好的特征是： 敲声\n"
     ]
    },
    {
     "data": {
      "text/plain": [
       "'左数据集是：'"
      ]
     },
     "metadata": {},
     "output_type": "display_data"
    },
    {
     "data": {
      "text/plain": [
       "[['软粘', '青绿', '坏瓜'], ['硬滑', '浅白', '坏瓜']]"
      ]
     },
     "metadata": {},
     "output_type": "display_data"
    },
    {
     "data": {
      "text/plain": [
       "'右数据集是：'"
      ]
     },
     "metadata": {},
     "output_type": "display_data"
    },
    {
     "data": {
      "text/plain": [
       "[['软粘', '浅白', '坏瓜'],\n",
       " ['硬滑', '浅白', '坏瓜'],\n",
       " ['硬滑', '乌黑', '好瓜'],\n",
       " ['硬滑', '乌黑', '坏瓜'],\n",
       " ['软粘', '乌黑', '坏瓜'],\n",
       " ['硬滑', '浅白', '好瓜'],\n",
       " ['硬滑', '乌黑', '好瓜'],\n",
       " ['软粘', '青绿', '好瓜'],\n",
       " ['硬滑', '青绿', '坏瓜'],\n",
       " ['硬滑', '青绿', '好瓜']]"
      ]
     },
     "metadata": {},
     "output_type": "display_data"
    },
    {
     "name": "stdout",
     "output_type": "stream",
     "text": [
      "删除最好的特征后 还有： ['触感', '色泽'] ['触感', '色泽']\n",
      "**************************************************\n",
      "%%%%%%%%%%%%%%%%%%%%%%%%%%%%%%%%%%%%%%%%%%%%%%%%%%\n",
      "最好的特征是： 触感\n"
     ]
    },
    {
     "data": {
      "text/plain": [
       "'左数据集是：'"
      ]
     },
     "metadata": {},
     "output_type": "display_data"
    },
    {
     "data": {
      "text/plain": [
       "[['浅白', '坏瓜'],\n",
       " ['乌黑', '好瓜'],\n",
       " ['乌黑', '坏瓜'],\n",
       " ['浅白', '好瓜'],\n",
       " ['乌黑', '好瓜'],\n",
       " ['青绿', '坏瓜'],\n",
       " ['青绿', '好瓜']]"
      ]
     },
     "metadata": {},
     "output_type": "display_data"
    },
    {
     "data": {
      "text/plain": [
       "'右数据集是：'"
      ]
     },
     "metadata": {},
     "output_type": "display_data"
    },
    {
     "data": {
      "text/plain": [
       "[['浅白', '坏瓜'], ['乌黑', '坏瓜'], ['青绿', '好瓜']]"
      ]
     },
     "metadata": {},
     "output_type": "display_data"
    },
    {
     "name": "stdout",
     "output_type": "stream",
     "text": [
      "删除最好的特征后 还有： ['色泽'] ['色泽']\n",
      "**************************************************\n",
      "最好的特征是： 色泽\n"
     ]
    },
    {
     "data": {
      "text/plain": [
       "'左数据集是：'"
      ]
     },
     "metadata": {},
     "output_type": "display_data"
    },
    {
     "data": {
      "text/plain": [
       "[['好瓜'], ['坏瓜'], ['好瓜']]"
      ]
     },
     "metadata": {},
     "output_type": "display_data"
    },
    {
     "data": {
      "text/plain": [
       "'右数据集是：'"
      ]
     },
     "metadata": {},
     "output_type": "display_data"
    },
    {
     "data": {
      "text/plain": [
       "[['坏瓜'], ['好瓜'], ['坏瓜'], ['好瓜']]"
      ]
     },
     "metadata": {},
     "output_type": "display_data"
    },
    {
     "name": "stdout",
     "output_type": "stream",
     "text": [
      "删除最好的特征后 还有： [] []\n",
      "**************************************************\n",
      "%%%%%%%%%%%%%%%%%%%%%%%%%%%%%%%%%%%%%%%%%%%%%%%%%%\n",
      "%%%%%%%%%%%%%%%%%%%%%%%%%%%%%%%%%%%%%%%%%%%%%%%%%%\n",
      "最好的特征是： 色泽\n"
     ]
    },
    {
     "data": {
      "text/plain": [
       "'左数据集是：'"
      ]
     },
     "metadata": {},
     "output_type": "display_data"
    },
    {
     "data": {
      "text/plain": [
       "[['好瓜']]"
      ]
     },
     "metadata": {},
     "output_type": "display_data"
    },
    {
     "data": {
      "text/plain": [
       "'右数据集是：'"
      ]
     },
     "metadata": {},
     "output_type": "display_data"
    },
    {
     "data": {
      "text/plain": [
       "[['坏瓜'], ['坏瓜']]"
      ]
     },
     "metadata": {},
     "output_type": "display_data"
    },
    {
     "name": "stdout",
     "output_type": "stream",
     "text": [
      "删除最好的特征后 还有： [] []\n",
      "**************************************************\n",
      "%%%%%%%%%%%%%%%%%%%%%%%%%%%%%%%%%%%%%%%%%%%%%%%%%%\n"
     ]
    },
    {
     "data": {
      "text/plain": [
       "{'敲声': {'清脆': '坏瓜',\n",
       "  'others': {'触感': {'硬滑': {'色泽': {'乌黑': '好瓜', 'others': '坏瓜'}},\n",
       "    'others': {'色泽': {'青绿': '好瓜', 'others': '坏瓜'}}}}}}"
      ]
     },
     "execution_count": 17,
     "metadata": {},
     "output_type": "execute_result"
    }
   ],
   "source": [
    "features = ['敲声', '触感', '色泽']\n",
    "dataset = [['浊响', '软粘', '浅白', '坏瓜'],\n",
    " ['沉闷', '硬滑', '浅白', '坏瓜'],\n",
    " ['清脆', '软粘', '青绿', '坏瓜'],\n",
    " ['浊响', '硬滑', '乌黑', '好瓜'],\n",
    " ['沉闷', '硬滑', '乌黑', '坏瓜'],\n",
    " ['浊响', '软粘', '乌黑', '坏瓜'],\n",
    " ['浊响', '硬滑', '浅白', '好瓜'],\n",
    " ['沉闷', '硬滑', '乌黑', '好瓜'],\n",
    " ['浊响', '软粘', '青绿', '好瓜'],\n",
    " ['沉闷', '硬滑', '青绿', '坏瓜'],\n",
    " ['清脆', '硬滑', '浅白', '坏瓜'],\n",
    " ['沉闷', '硬滑', '青绿', '好瓜']]\n",
    "\n",
    "create_tree(dataset, features)"
   ]
  },
  {
   "cell_type": "code",
   "execution_count": null,
   "id": "8db871ed",
   "metadata": {},
   "outputs": [],
   "source": []
  },
  {
   "cell_type": "code",
   "execution_count": null,
   "id": "069a610e",
   "metadata": {},
   "outputs": [],
   "source": []
  }
 ],
 "metadata": {
  "kernelspec": {
   "display_name": "Python 3",
   "language": "python",
   "name": "python3"
  },
  "language_info": {
   "codemirror_mode": {
    "name": "ipython",
    "version": 3
   },
   "file_extension": ".py",
   "mimetype": "text/x-python",
   "name": "python",
   "nbconvert_exporter": "python",
   "pygments_lexer": "ipython3",
   "version": "3.9.13"
  }
 },
 "nbformat": 4,
 "nbformat_minor": 5
}
